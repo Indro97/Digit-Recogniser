{
 "cells": [
  {
   "cell_type": "code",
   "execution_count": 1,
   "metadata": {},
   "outputs": [],
   "source": [
    "import os\n",
    "import cv2\n",
    "import numpy as np\n",
    "import matplotlib.pyplot as plot\n",
    "import tensorflow as tf"
   ]
  },
  {
   "cell_type": "code",
   "execution_count": 2,
   "metadata": {},
   "outputs": [],
   "source": [
    "minst = tf.keras.datasets.mnist\n",
    "(x_train,y_train), (x_test, y_test) = minst.load_data()"
   ]
  },
  {
   "cell_type": "code",
   "execution_count": 3,
   "metadata": {},
   "outputs": [],
   "source": [
    "x_train = tf.keras.utils.normalize(x_train, axis=1)\n",
    "x_test = tf.keras.utils.normalize(x_test, axis=1)"
   ]
  },
  {
   "cell_type": "code",
   "execution_count": 4,
   "metadata": {},
   "outputs": [],
   "source": [
    "model = tf.keras.models.Sequential()\n",
    "model.add(tf.keras.layers.Flatten(input_shape=(28,28)))\n",
    "model.add(tf.keras.layers.Dense(128, activation='relu'))\n",
    "model.add(tf.keras.layers.Dense(128, activation='relu'))\n",
    "model.add(tf.keras.layers.Dense(10, activation='softmax'))\n"
   ]
  },
  {
   "cell_type": "code",
   "execution_count": 5,
   "metadata": {},
   "outputs": [],
   "source": [
    "model.compile(optimizer='adam', loss='sparse_categorical_crossentropy', metrics=['accuracy'])"
   ]
  },
  {
   "cell_type": "code",
   "execution_count": 6,
   "metadata": {},
   "outputs": [
    {
     "name": "stdout",
     "output_type": "stream",
     "text": [
      "Epoch 1/4\n",
      "1875/1875 [==============================] - 3s 2ms/step - loss: 0.2636 - accuracy: 0.9230\n",
      "Epoch 2/4\n",
      "1875/1875 [==============================] - 3s 1ms/step - loss: 0.1098 - accuracy: 0.9665\n",
      "Epoch 3/4\n",
      "1875/1875 [==============================] - 3s 2ms/step - loss: 0.0746 - accuracy: 0.9761\n",
      "Epoch 4/4\n",
      "1875/1875 [==============================] - 3s 2ms/step - loss: 0.0543 - accuracy: 0.9825\n"
     ]
    },
    {
     "data": {
      "text/plain": [
       "<keras.src.callbacks.History at 0x24724783310>"
      ]
     },
     "execution_count": 6,
     "metadata": {},
     "output_type": "execute_result"
    }
   ],
   "source": [
    "model.fit(x_train,y_train, epochs=4)"
   ]
  },
  {
   "cell_type": "code",
   "execution_count": 7,
   "metadata": {},
   "outputs": [
    {
     "name": "stdout",
     "output_type": "stream",
     "text": [
      "INFO:tensorflow:Assets written to: DigitRecogniser.model\\assets\n"
     ]
    },
    {
     "name": "stderr",
     "output_type": "stream",
     "text": [
      "INFO:tensorflow:Assets written to: DigitRecogniser.model\\assets\n"
     ]
    }
   ],
   "source": [
    "model.save('DigitRecogniser.model')"
   ]
  },
  {
   "cell_type": "code",
   "execution_count": 8,
   "metadata": {},
   "outputs": [
    {
     "name": "stdout",
     "output_type": "stream",
     "text": [
      "313/313 [==============================] - 0s 906us/step - loss: 0.0958 - accuracy: 0.9710\n"
     ]
    }
   ],
   "source": [
    "loss, accuracy = model.evaluate(x_test,y_test)"
   ]
  },
  {
   "cell_type": "code",
   "execution_count": 9,
   "metadata": {},
   "outputs": [
    {
     "name": "stdout",
     "output_type": "stream",
     "text": [
      "loss: 0.09584290534257889, accuracy: 0.9710000157356262\n"
     ]
    }
   ],
   "source": [
    "print(f'loss: {loss}, accuracy: {accuracy}') "
   ]
  },
  {
   "cell_type": "code",
   "execution_count": 10,
   "metadata": {},
   "outputs": [
    {
     "name": "stdout",
     "output_type": "stream",
     "text": [
      "1/1 [==============================] - 0s 61ms/step\n",
      "number is probably 3\n",
      "1/1 [==============================] - 0s 20ms/step\n",
      "number is probably 3\n",
      "1/1 [==============================] - 0s 8ms/step\n",
      "number is probably 7\n"
     ]
    },
    {
     "data": {
      "image/png": "[encoded data removed]",
      "text/plain": [
       "<Figure size 640x480 with 1 Axes>"
      ]
     },
     "metadata": {},
     "output_type": "display_data"
    }
   ],
   "source": [
    "img = 1\n",
    "\n",
    "while os.path.isfile(f\"Digits/Digit{img}.png\"):\n",
    "    try:\n",
    "        image = cv2.imread(f\"Digits/Digit{img}.png\")[:,:,0]\n",
    "        image = np.invert(np.array([image]))\n",
    "        prediction = model.predict(image)\n",
    "        print(f\"number is probably {np.argmax(prediction)}\")\n",
    "        plot.imshow(image[0],cmap=plot.cm.binary)\n",
    "        plot.show\n",
    "    except:\n",
    "        print(\"Error!\")\n",
    "    finally:\n",
    "        img += 1\n",
    "                "
   ]
  },
  {
   "cell_type": "code",
   "execution_count": 11,
   "metadata": {},
   "outputs": [],
   "source": [
    "def update_model(model, new_data, labels):\n",
    "    new_data = tf.keras.utils.normalize(new_data, axis=1)\n",
    "    model.fit(new_data, labels, epochs=4)"
   ]
  },
  {
   "cell_type": "code",
   "execution_count": 14,
   "metadata": {},
   "outputs": [
    {
     "name": "stdout",
     "output_type": "stream",
     "text": [
      "1/1 [==============================] - 0s 389us/step\n",
      "number is probably 3\n"
     ]
    },
    {
     "data": {
      "text/plain": [
       "<function matplotlib.pyplot.show(close=None, block=None)>"
      ]
     },
     "execution_count": 14,
     "metadata": {},
     "output_type": "execute_result"
    },
    {
     "data": {
      "image/png": "[encoded data removed]",
      "text/plain": [
       "<Figure size 640x480 with 1 Axes>"
      ]
     },
     "metadata": {},
     "output_type": "display_data"
    }
   ],
   "source": [
    "image = cv2.imread(f\"Digits/Digit5.png\")[:,:,0]\n",
    "image = np.invert(np.array([image]))\n",
    "prediction = model.predict(image)\n",
    "print(f\"number is probably {np.argmax(prediction)}\")\n",
    "plot.imshow(image[0],cmap=plot.cm.binary)\n",
    "plot.show"
   ]
  },
  {
   "cell_type": "code",
   "execution_count": 13,
   "metadata": {},
   "outputs": [
    {
     "name": "stdout",
     "output_type": "stream",
     "text": [
      "Epoch 1/4\n",
      "1/1 [==============================] - 0s 215ms/step - loss: 2.4491 - accuracy: 0.0000e+00\n",
      "Epoch 2/4\n",
      "1/1 [==============================] - 0s 0s/step - loss: 0.3017 - accuracy: 1.0000\n",
      "Epoch 3/4\n",
      "1/1 [==============================] - 0s 0s/step - loss: 0.0192 - accuracy: 1.0000\n",
      "Epoch 4/4\n",
      "1/1 [==============================] - 0s 5ms/step - loss: 0.0026 - accuracy: 1.0000\n"
     ]
    }
   ],
   "source": [
    "correct_label = int(input(\"Enter the correct label for the digit: \"))\n",
    "\n",
    "        # Update the model with the new data\n",
    "update_model(model, image, np.array([correct_label]))"
   ]
  },
  {
   "cell_type": "code",
   "execution_count": 16,
   "metadata": {},
   "outputs": [
    {
     "name": "stdout",
     "output_type": "stream",
     "text": [
      "INFO:tensorflow:Assets written to: DigitRecogniser.model\\assets\n"
     ]
    },
    {
     "name": "stderr",
     "output_type": "stream",
     "text": [
      "INFO:tensorflow:Assets written to: DigitRecogniser.model\\assets\n"
     ]
    }
   ],
   "source": [
    "model_path = 'DigitRecogniser.model'\n",
    "\n",
    "model.save(model_path)"
   ]
  }
 ],
 "metadata": {
  "kernelspec": {
   "display_name": "venv",
   "language": "python",
   "name": "python3"
  },
  "language_info": {
   "codemirror_mode": {
    "name": "ipython",
    "version": 3
   },
   "file_extension": ".py",
   "mimetype": "text/x-python",
   "name": "python",
   "nbconvert_exporter": "python",
   "pygments_lexer": "ipython3",
   "version": "3.11.5"
  }
 },
 "nbformat": 4,
 "nbformat_minor": 2
}
